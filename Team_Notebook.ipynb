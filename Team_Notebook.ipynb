{
  "nbformat": 4,
  "nbformat_minor": 0,
  "metadata": {
    "colab": {
      "private_outputs": true,
      "provenance": [],
      "collapsed_sections": [
        "vncDsAP0Gaoa",
        "w6K7xa23Elo4",
        "PH-0ReGfmX4f",
        "mDgbUHAGgjLW",
        "HhfV-JJviCcP",
        "dauF4eBmngu3",
        "bKJF3rekwFvQ",
        "MSa1f5Uengrz",
        "GF8Ens_Soomf",
        "0wOQAZs5pc--",
        "K5QZ13OEpz2H",
        "lQ7QKXXCp7Bj",
        "448CDAPjqfQr",
        "KSlN3yHqYklG",
        "t6dVpIINYklI",
        "ijmpgYnKYklI",
        "-JiQyfWJYklI",
        "EM7whBJCYoAo",
        "fge-S5ZAYoAp",
        "85gYPyotYoAp",
        "RoGjAbkUYoAp",
        "4Of9eVA-YrdM",
        "iky9q4vBYrdO",
        "F6T5p64dYrdO",
        "y-Ehk30pYrdP",
        "bamQiAODYuh1",
        "QHF8YVU7Yuh3",
        "GwzvFGzlYuh3",
        "qYpmQ266Yuh3",
        "OH-pJp9IphqM",
        "bbFf2-_FphqN",
        "_ouA3fa0phqN",
        "Seke61FWphqN",
        "PIIx-8_IphqN",
        "t27r6nlMphqO",
        "r2jJGEOYphqO",
        "b0JNsNcRphqO",
        "BZR9WyysphqO",
        "jj7wYXLtphqO",
        "eZrbJ2SmphqO",
        "rFu4xreNphqO",
        "YUJo2UhPDzdH",
        "wi0SPxqJDzdL",
        "7BqPGtFXDzdP",
        "YJ55k-q6phqO",
        "gCFgpxoyphqP",
        "OVtJsKN_phqQ",
        "lssrdh5qphqQ",
        "U2RJ9gkRphqQ",
        "1M8mcRywphqQ",
        "tgIPom80phqQ",
        "JcMwzZxoAimU",
        "gCX9965dhzqZ",
        "gIfDvo9L0UH2"
      ],
      "include_colab_link": true
    },
    "kernelspec": {
      "name": "python3",
      "display_name": "Python 3"
    },
    "language_info": {
      "name": "python"
    }
  },
  "cells": [
    {
      "cell_type": "markdown",
      "metadata": {
        "id": "view-in-github",
        "colab_type": "text"
      },
      "source": [
        "<a href=\"https://colab.research.google.com/github/saurabhsingh3786/Capstone-Project-Play-Store-App-Review-Analysis/blob/main/Team_Notebook.ipynb\" target=\"_parent\"><img src=\"https://colab.research.google.com/assets/colab-badge.svg\" alt=\"Open In Colab\"/></a>"
      ]
    },
    {
      "cell_type": "markdown",
      "source": [
        "# <center>PLAY STORE APP REVIEW ANALYSIS\n",
        "</center>\n",
        "\n"
      ],
      "metadata": {
        "id": "vncDsAP0Gaoa"
      }
    },
    {
      "cell_type": "markdown",
      "source": [
        "##### **Project Type**    - Explorarory Data Analysis\n",
        "##### **Contribution**    - Team\n",
        "##### **Team Member 1 -** Saurabh Singh\n",
        "##### **Team Member 2 -** Bharathwaj Bejjarapu\n",
        "##### **Team Member 3 -** Shriya Chouhan \n"
      ],
      "metadata": {
        "id": "beRrZCGUAJYm"
      }
    },
    {
      "cell_type": "markdown",
      "source": [
        "# **Project Summary -**"
      ],
      "metadata": {
        "id": "FJNUwmbgGyua"
      }
    },
    {
      "cell_type": "markdown",
      "source": [
        "### <b> The Play Store apps data has enormous potential to drive app-making businesses to success. Actionable insights can be drawn for developers to work on and capture the Android market. </b>\n",
        "\n",
        "### <b> Each app (row) has values for catergory, rating, size, and more. Another dataset contains customer reviews of the android apps.</b>\n",
        "\n",
        "### <b> Explore and analyze the data to discover key factors responsible for app engagement and success. </b>\n",
        "### <b>Mobile apps are everywhere. They are easy to create and can be money making. Because of these two factors, more and more apps are being developed. In this notebook, we will do a comprehensive analysis of the Android app market by comparing over ten thousand apps in Google Play across different categories. We'll look for insights in the data to devise strategies to drive growth and retention.</b>\n",
        "\n",
        "### <b>The main objective of this exploratory data analysis project is to understand customer demands better and thus help developers to popularize their product on the Play Store.</b>\n",
        "### <b>Play Store App Review Analysis project is done by group of 3 members – Saurabh singh, Shriya Chouhan, And  Bharathwaj Bejjarapu . In this project we got 2 different csv files as an input. The Csv files are Play_Store.csv and User_Reviews.csv .</b>\n",
        "\n",
        "###<b>So, we decided to work on  these 2 csv files individually while exploring dataset using python libraries such as numpy,pandas,seaborn and matplotlib and after that we made a team colab from all group members individual work with adding a good amount of data analysis from each members contribution.</b>\n",
        "### <b> After completing our project we discussed about all the important topics in project like data cleaning, know variable attributes with data wrangling stuff and use of data visualization to represent our analysis and adding our contribution as given below.</b>\n",
        "###<b>Bharathwaj Bejjarapu -</b> I have utilised all my learning of python module to work on data cleaning process in my project such as counting duplicates and missing value in each feature and then either try to drop those values if their percentage is very low or using distribution of mean,median and mode to create distplot and boxplot for checking and handling outliers. The very first problem i have faced is that how to handle those NaN values in different columns of dataset which varies with device and which kind of proper distribution i should use to cope up with these values so i took a help from stack overflow to find what should be the correct method that maintain my project integrity with a fast execution time as well.\n",
        "\n",
        "###<b>Saurabh Singh -</b> My work in project was to understand each Feature in both datasets, using describe() method to reveal what kind of information they have like their count,mean,std. dev,min etc. for all numerical data they have. My next aim was to find datatypes of each feature and handle if any irregularity is their by checking their uniqueness and get number of unique elements with their datatypes as well and try to change their datatypes if needed using astypes method. My biggest difficulty was to dealing with `Size` feature as their were so many 'varies with device' values which were not replacable through their mean or median so instead of dropping them i left them as they are because dropping them will affect quality of our analysis.\n",
        "\n",
        "###<b>Shriya Chouhan -</b> My contribution to the project was to anlaysis all the data given to me after cleaning unnecessary stuff. It was a bit challenging to me as data wrangling with visualization of all the data with matplotlib and seaborn libraries was a tough job but I utilised all my skills and with the help of superb content provided by almabetter team I solved the given problem statements.My Biggest challenge was to choose which type of plot should be appropiate for given problem and follow the rules of UBM i.e univariate,bivariate and multivariate analysis so that i can give proper answer for those questions given in template like use of specific chart,its insights and positive & negative growth assumption based on given problem statements. "
      ],
      "metadata": {
        "id": "F6v_1wHtG2nS"
      }
    },
    {
      "cell_type": "markdown",
      "source": [
        "# **GitHub Link -**"
      ],
      "metadata": {
        "id": "w6K7xa23Elo4"
      }
    },
    {
      "cell_type": "markdown",
      "source": [
        "##GitHub link for respective members are-\n",
        "https://github.com/saurabhsingh3786/Capstone-Project-Play-Store-App-Review-Analysis\n",
        "\n",
        "https://github.com/bharath977/Capstone-project--play-store-app-review-analysis.git\n",
        "\n",
        "https://github.com/ShriyaChouhan/capstone-project---Play-Store-App-Review-Analysis"
      ],
      "metadata": {
        "id": "h1o69JH3Eqqn"
      }
    },
    {
      "cell_type": "markdown",
      "source": [
        "# **Problem Statement**\n"
      ],
      "metadata": {
        "id": "yQaldy8SH6Dl"
      }
    },
    {
      "cell_type": "markdown",
      "source": [
        "Which category has highest share of app in market?\n",
        "\n",
        "What is distribution of Apps rating?\n",
        "\n",
        "Which content Rating has highest count?\n",
        "\n",
        "Which Genres have most number of apps?\n",
        "\n",
        "What are the sentiments of people towards apps?\n",
        "\n",
        "Is there any Correlation between App Size and ratings?\n",
        "\n",
        "How is price trending across some categories?\n",
        "\n",
        "Is subjectivity and polarity proportional to each other?\n",
        "\n",
        "What are top 10 downloaded apps based on reviews and what's difference between their rating & reviews?\n",
        "\n",
        "Is there any corelation between Rating,Size,Installs,Reviews and Price?\n",
        "\n",
        "Is there any corelation between all quantitative value in both datasets?\n",
        "\n",
        "\n",
        "\n"
      ],
      "metadata": {
        "id": "DpeJGUA3kjGy"
      }
    },
    {
      "cell_type": "markdown",
      "source": [
        "#### **Define Your Business Objective?**"
      ],
      "metadata": {
        "id": "PH-0ReGfmX4f"
      }
    },
    {
      "cell_type": "markdown",
      "source": [
        "Our main objective to made this project is to use the knowledge we gained in our python module topics such as Data Wrangling, data visualization and numpy,pandas etc. on this given dataset of Goggle Play App Store and try to make it useful for stakeholders who wants to improve their app quality and ratings among consumers of that given app."
      ],
      "metadata": {
        "id": "PhDvGCAqmjP1"
      }
    },
    {
      "cell_type": "markdown",
      "source": [
        "# **General Guidelines** : -  "
      ],
      "metadata": {
        "id": "mDgbUHAGgjLW"
      }
    },
    {
      "cell_type": "markdown",
      "source": [
        "1.   Well-structured, formatted, and commented code is required. \n",
        "2.   Exception Handling, Production Grade Code & Deployment Ready Code will be a plus. Those students will be awarded some additional credits. \n",
        "     \n",
        "     The additional credits will have advantages over other students during Star Student selection.\n",
        "       \n",
        "             [ Note: - Deployment Ready Code is defined as, the whole .ipynb notebook should be executable in one go\n",
        "                       without a single error logged. ]\n",
        "\n",
        "3.   Each and every logic should have proper comments.\n",
        "4. You may add as many number of charts you want. Make Sure for each and every chart the following format should be answered.\n",
        "        \n",
        "\n",
        "```\n",
        "# Chart visualization code\n",
        "```\n",
        "            \n",
        "\n",
        "*   Why did you pick the specific chart?\n",
        "*   What is/are the insight(s) found from the chart?\n",
        "* Will the gained insights help creating a positive business impact? \n",
        "Are there any insights that lead to negative growth? Justify with specific reason.\n",
        "\n",
        "5. You have to create at least 20 logical & meaningful charts having important insights.\n",
        "\n",
        "\n",
        "[ Hints : - Do the Vizualization in  a structured way while following \"UBM\" Rule. \n",
        "\n",
        "U - Univariate Analysis,\n",
        "\n",
        "B - Bivariate Analysis (Numerical - Categorical, Numerical - Numerical, Categorical - Categorical)\n",
        "\n",
        "M - Multivariate Analysis\n",
        " ]\n",
        "\n",
        "\n",
        "\n"
      ],
      "metadata": {
        "id": "ZrxVaUj-hHfC"
      }
    },
    {
      "cell_type": "markdown",
      "source": [
        "# ***Let's Begin !***"
      ],
      "metadata": {
        "id": "O_i_v8NEhb9l"
      }
    },
    {
      "cell_type": "markdown",
      "source": [
        "## ***1. Know Your Data***"
      ],
      "metadata": {
        "id": "HhfV-JJviCcP"
      }
    },
    {
      "cell_type": "markdown",
      "source": [
        "### Import Libraries"
      ],
      "metadata": {
        "id": "Y3lxredqlCYt"
      }
    },
    {
      "cell_type": "code",
      "source": [
        "# Import Libraries\n",
        "import numpy as np #to perform mathematical operations on arrays.\n",
        "import pandas as pd #to analyze big data,read & write I/O files\n",
        "import matplotlib.pyplot as plt # a collection of command style functions that make matplotlib work like MATLAB\n",
        "from matplotlib.ticker import MultipleLocator # class is used for setting a tick for every integer multiple of a base within the view interval.\n",
        "import seaborn as sns #Visulization tools\n",
        "import missingno as msno #visualizing missing values\n",
        "from datetime import datetime\n",
        "import warnings\n",
        "warnings.filterwarnings(\"ignore\")"
      ],
      "metadata": {
        "id": "M8Vqi-pPk-HR"
      },
      "execution_count": null,
      "outputs": []
    },
    {
      "cell_type": "markdown",
      "source": [
        "### Dataset Loading"
      ],
      "metadata": {
        "id": "3RnN4peoiCZX"
      }
    },
    {
      "cell_type": "code",
      "source": [
        "# Load Dataset\n",
        "from google.colab import drive\n",
        "drive.mount('/content/drive', force_remount=True)"
      ],
      "metadata": {
        "id": "4CkvbW_SlZ_R"
      },
      "execution_count": null,
      "outputs": []
    },
    {
      "cell_type": "code",
      "source": [
        "# convert the dataset into pandas dataframe using pd.read_csv\n",
        "file_path = \"/content/drive/MyDrive/AlmaBetter/Capstone Projects/Play Store App Review Analysis/\"\n",
        "play_store_data_df = pd.read_csv(file_path + \"Play Store Data.csv\")\n",
        "user_review_df = pd.read_csv(file_path + \"User Reviews.csv\")\n"
      ],
      "metadata": {
        "id": "4-JOhzF8oPm-"
      },
      "execution_count": null,
      "outputs": []
    },
    {
      "cell_type": "markdown",
      "source": [
        "### Dataset First View"
      ],
      "metadata": {
        "id": "x71ZqKXriCWQ"
      }
    },
    {
      "cell_type": "code",
      "source": [
        "# Play store data.csv Dataset First Look\n",
        "play_store_data_df.head()"
      ],
      "metadata": {
        "id": "LWNFOSvLl09H"
      },
      "execution_count": null,
      "outputs": []
    },
    {
      "cell_type": "code",
      "source": [
        "# last 5 rows of play store data dataset\n",
        "play_store_data_df.tail()"
      ],
      "metadata": {
        "id": "v98lSUFqw19x"
      },
      "execution_count": null,
      "outputs": []
    },
    {
      "cell_type": "code",
      "source": [
        "#or we can concat to look at both first and last 5 rows \n",
        "pd.concat([play_store_data_df.head(),play_store_data_df.tail()])\n"
      ],
      "metadata": {
        "id": "zbJMXqQL1qXh"
      },
      "execution_count": null,
      "outputs": []
    },
    {
      "cell_type": "code",
      "source": [
        "# user review dataset first and last 5 rows using concat\n",
        "pd.concat([user_review_df.head(),user_review_df.tail()])"
      ],
      "metadata": {
        "id": "N8ACJhZkIlJb"
      },
      "execution_count": null,
      "outputs": []
    },
    {
      "cell_type": "markdown",
      "source": [
        "### Dataset Rows & Columns count"
      ],
      "metadata": {
        "id": "7hBIi_osiCS2"
      }
    },
    {
      "cell_type": "code",
      "source": [
        "# firstly, we counted row and columns of play store.csv dataset\n",
        "# computing number of rows\n",
        "rows_playstore = len(play_store_data_df.axes[0])\n",
        " \n",
        "# computing number of columns\n",
        "cols_playstore = len(play_store_data_df.axes[1])\n",
        " \n",
        "print(\"Number of Rows in play store dataset: \", rows_playstore)\n",
        "print(\"Number of Columns in play store dataset: \", cols_playstore)"
      ],
      "metadata": {
        "id": "Kllu7SJgmLij"
      },
      "execution_count": null,
      "outputs": []
    },
    {
      "cell_type": "code",
      "source": [
        "# Secondly, we counted row and columns of user reviews.csv dataset\n",
        "# computing number of rows\n",
        "rows_user_review = len(user_review_df.axes[0])\n",
        " \n",
        "# computing number of columns\n",
        "cols_user_review = len(user_review_df.axes[1])\n",
        " \n",
        "print(\"Number of Rows in user review dataset: \", rows_user_review)\n",
        "print(\"Number of Columns in user review dataset: \", cols_user_review)"
      ],
      "metadata": {
        "id": "t6K_xtPB0SX2"
      },
      "execution_count": null,
      "outputs": []
    },
    {
      "cell_type": "markdown",
      "source": [
        "### Dataset Information"
      ],
      "metadata": {
        "id": "JlHwYmJAmNHm"
      }
    },
    {
      "cell_type": "code",
      "source": [
        "# Dataset Info of play store.csv dataset\n",
        "play_store_data_df.info()"
      ],
      "metadata": {
        "id": "e9hRXRi6meOf"
      },
      "execution_count": null,
      "outputs": []
    },
    {
      "cell_type": "code",
      "source": [
        "# Dataset Info of user review.csv dataset\n",
        "user_review_df.info()"
      ],
      "metadata": {
        "id": "iMu9zsJbUCIn"
      },
      "execution_count": null,
      "outputs": []
    },
    {
      "cell_type": "markdown",
      "source": [
        "#### Duplicate Values"
      ],
      "metadata": {
        "id": "35m5QtbWiB9F"
      }
    },
    {
      "cell_type": "code",
      "source": [
        "# Dataset Duplicate Value Count in play store.csv \n",
        "duplicate_value = play_store_data_df[play_store_data_df.duplicated()]\n",
        "print(\"Duplicate rows in play store dataset:\",len(duplicate_value))\n",
        "#duplicate values in user review.csv\n",
        "duplicate_value1 = user_review_df[user_review_df.duplicated()]\n",
        "print(\"Duplicate rows in user review dataset:\",len(duplicate_value1))"
      ],
      "metadata": {
        "id": "1sLdpKYkmox0"
      },
      "execution_count": null,
      "outputs": []
    },
    {
      "cell_type": "markdown",
      "source": [
        "#### Missing Values/Null Values"
      ],
      "metadata": {
        "id": "PoPl-ycgm1ru"
      }
    },
    {
      "cell_type": "code",
      "source": [
        "# Missing Values/Null Values Count\n",
        "#firstly, in play store dataset\n",
        "print (f\"Missing Values in each column\"+\"\\n\" + \"--\"*15)\n",
        "\n",
        "#sum of null values per column \n",
        "play_store_data_df.isnull().sum()"
      ],
      "metadata": {
        "id": "GgHWkxvamxVg"
      },
      "execution_count": null,
      "outputs": []
    },
    {
      "cell_type": "code",
      "source": [
        "# percentage of missing value in play store dataset\n",
        "print (f\"Missing Values % in each column\"+\"\\n\" + \"--\"*15)\n",
        "(play_store_data_df.isnull().mean())*100"
      ],
      "metadata": {
        "id": "ltXHP_LGUej3"
      },
      "execution_count": null,
      "outputs": []
    },
    {
      "cell_type": "markdown",
      "source": [
        "from this we get to know that Rating has 1474 null values which contributes 13.60% of the data.\n",
        "Type has 1 null value which contributes 0.01% of the data.\n",
        "Content_Rating has 1 null value which contributes 0.01% of the data. Current_Ver has 8 null values which contributes 0.07% of the data. Android_Ver has 3 null values which contributes 0.03% of the data."
      ],
      "metadata": {
        "id": "r9sHofrdZsUT"
      }
    },
    {
      "cell_type": "code",
      "source": [
        "# Missing Values/Null Values Count\n",
        "#secondly, in user review dataset\n",
        "print (f\"Missing Values in each column\"+\"\\n\" + \"--\"*15)\n",
        "\n",
        "#sum of null values per column \n",
        "user_review_df.isnull().sum()"
      ],
      "metadata": {
        "id": "5CxpF5bZ8GLA"
      },
      "execution_count": null,
      "outputs": []
    },
    {
      "cell_type": "code",
      "source": [
        "# percentage of missing value in user review dataset\n",
        "print (f\"Missing Values % in each column\"+\"\\n\" + \"--\"*15)\n",
        "(user_review_df.isnull().mean())*100"
      ],
      "metadata": {
        "id": "ILYXcKlmaWR9"
      },
      "execution_count": null,
      "outputs": []
    },
    {
      "cell_type": "markdown",
      "source": [
        "The number of null values are:\n",
        "* **Translated_Review** has 26868 null values which contributes **41.79%** of the data.\n",
        "* **Sentiment** has 26863 null values which contributes **41.78%** of the data.\n",
        "* **Sentiment_Polarity**  has 26863 null values which contributes **41.78%** of the data.\n",
        "* **Sentiment_Subjectivity** has 26863 null values which contributes **41.78%** of the data."
      ],
      "metadata": {
        "id": "z1JKwX_Pa_1o"
      }
    },
    {
      "cell_type": "code",
      "source": [
        "# Visualizing the missing values in play store dataset\n",
        "\n",
        "# Define the Google brand colors\n",
        "google_colors = [\"blue\", \"red\", \"green\", \"magenta\", \"yellow\"]\n",
        "\n",
        "# Set the default figure size for all charts\n",
        "plt.rcParams[\"figure.figsize\"] = (18, 6)\n",
        "# Set the style\n",
        "sns.set_theme(style='white')\n",
        "# Plot the bar chart with a logarithmic scale\n",
        "percent_null_counts_playdf = (play_store_data_df.isnull().sum().sort_values(ascending = False))/len(play_store_data_df)\n",
        "percent_null_counts_playdf = percent_null_counts_playdf[percent_null_counts_playdf != 0]\n",
        "sns.barplot(x=percent_null_counts_playdf.values, y=percent_null_counts_playdf.index, palette=google_colors)\n",
        "\n",
        "# Set the x-axis scale to logarithmic so that we can see small values too\n",
        "plt.xscale('log')\n",
        "\n",
        "# Set the x-axis and y-axis labels and title\n",
        "sns.set(font_scale = 1.8)\n",
        "plt.xlabel(\"Percentage of null values\", fontsize=18)\n",
        "plt.ylabel(\"Columns with null values\", fontsize=18)\n",
        "plt.title(\"Percentage of null values in Playstore dataset\", fontsize=25)\n",
        "plt.xticks(fontsize=15)\n",
        "plt.yticks(fontsize=15)\n",
        "\n",
        "\n",
        "# Display the plot\n",
        "plt.show()\n"
      ],
      "metadata": {
        "id": "QIsXaBC6AJLU"
      },
      "execution_count": null,
      "outputs": []
    },
    {
      "cell_type": "code",
      "source": [
        "# Visualizing the missing values in user review dataset\n",
        "\n",
        "# Define the Google brand colors\n",
        "google_colors = [\"#D95319\", \"#7E2F8E\", \"#4DBEEE\", \"#A2142F\"] #RGB Triplet colors\n",
        "\n",
        "# Set the default figure size for all charts\n",
        "plt.rcParams[\"figure.figsize\"] = (18, 6)\n",
        "\n",
        "# Set the style\n",
        "sns.set_theme(style='white')\n",
        "\n",
        "# Plot the bar chart \n",
        "percent_null_counts_userdf = user_review_df.isnull().sum()\n",
        "percent_null_counts_userdf = percent_null_counts_userdf[percent_null_counts_userdf != 0]\n",
        "sns.barplot(x=percent_null_counts_userdf.values, y=percent_null_counts_userdf.index, palette=google_colors)\n",
        "\n",
        "# Set the x-axis and y-axis labels and title\n",
        "sns.set(font_scale = 1.8)\n",
        "plt.xlabel(\"number of null values\", fontsize=18)\n",
        "plt.ylabel(\"Columns with null values\", fontsize=18)\n",
        "plt.title(\"null values in User Review dataset\", fontsize=25)\n",
        "plt.xticks(fontsize=15)\n",
        "plt.yticks(fontsize=15)\n",
        "\n",
        "\n",
        "# Display the plot\n",
        "plt.show()\n"
      ],
      "metadata": {
        "id": "F1v-0qb4Ij5i"
      },
      "execution_count": null,
      "outputs": []
    },
    {
      "cell_type": "markdown",
      "source": [
        "**Inference**\n",
        "\n",
        "**Reasoning for Chart selection**\n",
        "\n",
        "1. Using a bar chart with a logarithmic scale is an effective method for visualizing the percentage of null values in the dataset. This specific chart was chosen because it allows for easy comparison of null percentages across multiple columns in a single chart. This is important because some columns, such as 'Rating' and 'Translated Review' have much higher null percentages than others, which can lead to difficulties in visualizing the data in a traditional bar chart. Without the logarithmic scale, the 'Rating' and 'Translated Review' column would dominate their chart and the bars for the other columns would be too small to read. By using a logarithmic scale, the bars for all columns can be visualized clearly and their relative sizes can be easily compared.\n",
        "\n",
        "**Insights gained from the Chart**\n",
        "\n",
        "1.   The column \"Rating\" contains the largest proportion of NaN values, around 13%. Dropping these rows would result in significant data loss, which could potentially reduce the accuracy of the analysis. Instead of dropping the rows, a better approach could be to impute the missing values using an aggregate metric, such as the mean, median or mode of the remaining values in the \"Rating\" column.\n",
        "\n",
        "2.   The other columns (Current Ver, Android Ver, Type, and Content Rating) all have a much lower percentage of null values, with values ranging from 0.0092% to 0.0738%.The low percentage of null values in these columns suggests that the data is generally complete and may be suitable for analysis.\n",
        "\n",
        "3. In user review dataset we are using bar plot without log scale as all the columns have null values in thousands.\n",
        "\n",
        "\n",
        "\n"
      ],
      "metadata": {
        "id": "3Wp4bLCz4MNk"
      }
    },
    {
      "cell_type": "markdown",
      "source": [
        "### What did you know about your dataset?"
      ],
      "metadata": {
        "id": "H0kj-8xxnORC"
      }
    },
    {
      "cell_type": "markdown",
      "source": [
        "By exploring the play store dataset, we know that:\n",
        "\n",
        "play_store dataframe has 10841 rows and 13 columns. The 13 columns are identified as below:\n",
        "1. **App** - It tells us about the name of the application with a short description (optional).\n",
        "2. **Category** - It gives the category to the app.\n",
        "3. **Rating** - It contains the average rating the respective app received from its users.\n",
        "4. **Reviews** - It tells us about the total number of users who have given a review for the application.\n",
        "5. **Size** - It tells us about the size being occupied the application on the mobile phone.\n",
        "6. **Installs** - It tells us about the total number of installs/downloads for an application.\n",
        "7. **Type** - It states whether an app is free to use or paid.\n",
        "8. **Price** - It gives the price payable to install the app. For free type apps, the price is zero.\n",
        "9. **Content Rating** - It states whether or not an app is suitable for all age groups or not.\n",
        "10. **Genres** - It tells us about the various other categories to which an application can belong.\n",
        "11. **Last Updated** - It tells us about the when the application was updated.\n",
        "12. **Current Ver** - It tells us about the current version of the application.\n",
        "13.**Android Ver** - It tells us about the android version which can support the application on its platform.\n",
        "\n",
        "some irregularities regarding data types we inspect are as-\n",
        "\n",
        "* There are 1487 missing values in the given dataset.\n",
        "\n",
        "* Column 'Reviews', 'Size', 'Installs' and 'Price' are in the type of 'object' .\n",
        "\n",
        "* Values of column 'Size' are strings representing size in 'M' as Megabytes, 'k' as kilobytes and also 'Varies with devices'.\n",
        "\n",
        "* Values of column 'Installs' are strings representing install amount with symbols such as ',' and '+'.\n",
        "\n",
        "* Values of column 'Price' are strings representing price   with symbol '$'.\n",
        "\n",
        "By exploring user review dataset we have following information as-\n",
        "user_reviews dataframe has 64295 rows and 5 columns. The 5 columns are identified as follows:\n",
        "\n",
        "* **App:** Contains the name of the app with a short description (optional).\n",
        "* **Translated_Review:** It contains the English translation of the review dropped by the user of the app.\n",
        "* **Sentiment:** It gives the attitude/emotion of the writer. It can be ‘Positive’, ‘Negative’, or ‘Neutral’.\n",
        "* **Sentiment_Polarity:** It gives the polarity of the review. Its range is [-1,1], where 1 means ‘Positive statement’ and -1 means a ‘Negative statement’.\n",
        "* **Sentiment_Subjectivity:** This value gives how close a reviewers opinion is to the opinion of the general public. Its range is [0,1]. Higher the subjectivity, closer is the reviewers opinion to the opinion of the general public, and lower subjectivity indicates the review is more of a factual information.\n",
        "Hence, we will need to do some data cleaning to make this dataset ready for exploratory analysis.\n",
        "\n"
      ],
      "metadata": {
        "id": "gfoNAAC-nUe_"
      }
    },
    {
      "cell_type": "markdown",
      "source": [
        "\n",
        "**`First, We try to handle missing values in play store dataset:-`**"
      ],
      "metadata": {
        "id": "1EyFpVFMQyzF"
      }
    },
    {
      "cell_type": "code",
      "source": [
        "# As we know rating should be between 1 to 5, so check if their any outlier\n",
        "play_store_data_df[(play_store_data_df['Rating'] <1) | (play_store_data_df['Rating']>5)]\n"
      ],
      "metadata": {
        "id": "I8DUtKJk7o3X"
      },
      "execution_count": null,
      "outputs": []
    },
    {
      "cell_type": "markdown",
      "source": [
        "In the given row, rating is 19.0 and their is also irregularity with other columns too such as category is 1.9,Installs is free and genre is fill with date. so this row should be dropped as their is so many error regarding data entry in this row."
      ],
      "metadata": {
        "id": "UAhIRAvrjHEj"
      }
    },
    {
      "cell_type": "code",
      "source": [
        "play_store_data_df = play_store_data_df.drop([10472])"
      ],
      "metadata": {
        "id": "o3Lq6WHOjFRJ"
      },
      "execution_count": null,
      "outputs": []
    },
    {
      "cell_type": "markdown",
      "source": [
        "The Rating column contains 1474 NaN values which is near about 13.5% of the rows in the play store dataset, so if we drop them we will loose a large amount of data, which may impact the quality of the our data analysis.Hence,we imputed the aggregate (mean or median) of the remaining values in the Rating column in these NaN values."
      ],
      "metadata": {
        "id": "_YUXP9pKlNHw"
      }
    },
    {
      "cell_type": "code",
      "source": [
        "# Finding mean and median in the Rating column excluding the NaN values.\n",
        "\n",
        "mean_num = round(play_store_data_df[~play_store_data_df['Rating'].isnull()]['Rating'].mean(),2)\n",
        "median_num = play_store_data_df[~play_store_data_df['Rating'].isnull()]['Rating'].median()\n",
        "print(f\" the mean number is {mean_num} and median is {median_num}\")"
      ],
      "metadata": {
        "id": "350Dm9OWmVxR"
      },
      "execution_count": null,
      "outputs": []
    },
    {
      "cell_type": "code",
      "source": [
        "# Now we use distplot and boxplot to detect outliers in ratings and then decide either we use mean or median.\n",
        "figure, ax = plt.subplots(2,1, figsize=(12,7))\n",
        "sns.set_theme(style='white')\n",
        "sns.distplot(play_store_data_df['Rating'],color='Green',ax=ax[0])\n",
        "sns.boxplot(x='Rating',data=play_store_data_df, ax=ax[1])\n"
      ],
      "metadata": {
        "id": "KTcQc1Wgocbq"
      },
      "execution_count": null,
      "outputs": []
    },
    {
      "cell_type": "markdown",
      "source": [
        "From the above visualization we get to know that values are left skewed which means mean is getting biased at far end of distribution and average rating is near about 4.3 so median would be a better option to impute NaN values."
      ],
      "metadata": {
        "id": "vEA8BQRU7i-S"
      }
    },
    {
      "cell_type": "code",
      "source": [
        "# Replacing the NaN values in the 'Rating' colunm with its median value\n",
        "play_store_data_df['Rating'].fillna(value=median_num,inplace=True)"
      ],
      "metadata": {
        "id": "5h86kL978CUO"
      },
      "execution_count": null,
      "outputs": []
    },
    {
      "cell_type": "code",
      "source": [
        "#Since the missing values for android, current and content rarting columns is less (<0.05), we proceed to dropping these rows.\n",
        "play_store_data_df=play_store_data_df[play_store_data_df['Android Ver'].notna()]\n",
        "play_store_data_df=play_store_data_df[play_store_data_df['Current Ver'].notna()]\n",
        "play_store_data_df=play_store_data_df[play_store_data_df['Content Rating'].notna()]\n"
      ],
      "metadata": {
        "id": "mzg8L4xNAucY"
      },
      "execution_count": null,
      "outputs": []
    },
    {
      "cell_type": "code",
      "source": [
        "# The row containing NaN values in the Type column\n",
        "play_store_data_df[play_store_data_df[\"Type\"].isnull()]"
      ],
      "metadata": {
        "id": "e0HqP0Bvq2tL"
      },
      "execution_count": null,
      "outputs": []
    },
    {
      "cell_type": "code",
      "source": [
        "# Finding the different values the 'Type' column takes\n",
        "play_store_data_df[\"Type\"].value_counts()"
      ],
      "metadata": {
        "id": "cJepjygAqib0"
      },
      "execution_count": null,
      "outputs": []
    },
    {
      "cell_type": "code",
      "source": [
        "# Replacing the NaN value in 'Type' column corresponding to row index 9148 with 'Free'\n",
        "play_store_data_df.loc[9148,'Type']='Free'"
      ],
      "metadata": {
        "id": "HubPS7Euqhs7"
      },
      "execution_count": null,
      "outputs": []
    },
    {
      "cell_type": "markdown",
      "source": [
        "<b>Handling Duplicate values in play store dataset</b>"
      ],
      "metadata": {
        "id": "WzKVUA8U9qC4"
      }
    },
    {
      "cell_type": "code",
      "source": [
        "# drop duplicate apps\n",
        "play_store_data_df.drop_duplicates(subset='App', inplace=True)"
      ],
      "metadata": {
        "id": "kn5LweGjrTII"
      },
      "execution_count": null,
      "outputs": []
    },
    {
      "cell_type": "markdown",
      "source": [
        "<b>Now, We move to user review dataset to handle null values-"
      ],
      "metadata": {
        "id": "THJ522S9BA0D"
      }
    },
    {
      "cell_type": "code",
      "source": [
        "# Deleting the rows containing NaN values in user_review\n",
        "user_review_df = user_review_df.dropna()\n",
        "user_review_df.shape"
      ],
      "metadata": {
        "id": "lNjOEt3GAjyC"
      },
      "execution_count": null,
      "outputs": []
    },
    {
      "cell_type": "code",
      "source": [
        "# checking the NaN values in the translated review column\n",
        "user_review_df[user_review_df['Translated_Review'].isnull()]"
      ],
      "metadata": {
        "id": "ZlUaEcWDBRBH"
      },
      "execution_count": null,
      "outputs": []
    },
    {
      "cell_type": "markdown",
      "source": [
        "here, when there is no translated review, values in sentiments, sentiment polarity and subjectivity is NaN value so we can drop these values."
      ],
      "metadata": {
        "id": "BKlTbrkBB2wz"
      }
    },
    {
      "cell_type": "code",
      "source": [
        "# Deleting the rows containing NaN values\n",
        "user_review_df = user_review_df.dropna()"
      ],
      "metadata": {
        "id": "tRZEbuMxCxeW"
      },
      "execution_count": null,
      "outputs": []
    },
    {
      "cell_type": "code",
      "source": [
        "# Inspecting the sentiment column to check remaining values are correct or not\n",
        "user_review_df['Sentiment'].value_counts()"
      ],
      "metadata": {
        "id": "nAtixFYfDONB"
      },
      "execution_count": null,
      "outputs": []
    },
    {
      "cell_type": "markdown",
      "source": [
        "## ***2. Understanding Your Variables***"
      ],
      "metadata": {
        "id": "nA9Y7ga8ng1Z"
      }
    },
    {
      "cell_type": "code",
      "source": [
        "# Dataset Column\n",
        "print(list(play_store_data_df.columns))\n",
        "print(list(user_review_df.columns))"
      ],
      "metadata": {
        "id": "j7xfkqrt5Ag5"
      },
      "execution_count": null,
      "outputs": []
    },
    {
      "cell_type": "code",
      "source": [
        "# Dataset Describe\n",
        "play_store_data_df.describe().T"
      ],
      "metadata": {
        "id": "DnOaZdaE5Q5t"
      },
      "execution_count": null,
      "outputs": []
    },
    {
      "cell_type": "code",
      "source": [
        "# user review dataset Describe\n",
        "user_review_df.describe().T"
      ],
      "metadata": {
        "id": "9YY0Ospl-xTv"
      },
      "execution_count": null,
      "outputs": []
    },
    {
      "cell_type": "markdown",
      "source": [
        "### Variables Description "
      ],
      "metadata": {
        "id": "PBTbrJXOngz2"
      }
    },
    {
      "cell_type": "code",
      "source": [
        "#description of each column data type of play store dataset\n",
        "play_store_data_df.dtypes"
      ],
      "metadata": {
        "id": "aw-xZHBwEFL2"
      },
      "execution_count": null,
      "outputs": []
    },
    {
      "cell_type": "code",
      "source": [
        "#description of each column data type of user review dataset\n",
        "user_review_df.dtypes"
      ],
      "metadata": {
        "id": "-l8bjJPcES2x"
      },
      "execution_count": null,
      "outputs": []
    },
    {
      "cell_type": "markdown",
      "source": [
        "<b>As we can see there is some problem with data types in play store dataset columns so we will try to correct it when check uniqueness for each variable.</b>"
      ],
      "metadata": {
        "id": "yrEbqK5aEw0L"
      }
    },
    {
      "cell_type": "markdown",
      "source": [
        "### Check Unique Values for each variable."
      ],
      "metadata": {
        "id": "u3PMJOP6ngxN"
      }
    },
    {
      "cell_type": "code",
      "source": [
        "# Check Unique Values for each variable.\n",
        "# Check unique number of apps in 'App' column -\n",
        "print(play_store_data_df['App'].unique())\n",
        "print(len(play_store_data_df['App'].unique()))"
      ],
      "metadata": {
        "id": "zms12Yq5n-jE"
      },
      "execution_count": null,
      "outputs": []
    },
    {
      "cell_type": "code",
      "source": [
        "# Check unique number of category in 'Category' column -\n",
        "play_store_data_df['Category'].unique()"
      ],
      "metadata": {
        "id": "50_713iJcr6d"
      },
      "execution_count": null,
      "outputs": []
    },
    {
      "cell_type": "code",
      "source": [
        "#counting total number of unique category\n",
        "print(\"Total number of Categories are:\",len(play_store_data_df['Category'].unique()))"
      ],
      "metadata": {
        "id": "XO7Y75ojxL1h"
      },
      "execution_count": null,
      "outputs": []
    },
    {
      "cell_type": "code",
      "source": [
        "# Check unique number of rating in 'Rating' column -\n",
        "play_store_data_df['Rating'].unique()"
      ],
      "metadata": {
        "id": "hJI9UOAHxJn9"
      },
      "execution_count": null,
      "outputs": []
    },
    {
      "cell_type": "code",
      "source": [
        "# Check unique number of reviews in 'Reviews' column -\n",
        "play_store_data_df['Reviews'].unique()"
      ],
      "metadata": {
        "id": "cPJVctTF2wql"
      },
      "execution_count": null,
      "outputs": []
    },
    {
      "cell_type": "code",
      "source": [
        "#as dtype of reviews column is in object so we have to change in int\n",
        "play_store_data_df['Reviews'] = play_store_data_df['Reviews'].astype(int)"
      ],
      "metadata": {
        "id": "GfGVISUe36lq"
      },
      "execution_count": null,
      "outputs": []
    },
    {
      "cell_type": "code",
      "source": [
        "# Check unique number of size in 'Size' column -\n",
        "play_store_data_df['Size'].unique()"
      ],
      "metadata": {
        "id": "pG7XCBHW8keB"
      },
      "execution_count": null,
      "outputs": []
    },
    {
      "cell_type": "markdown",
      "source": [
        "So we have to remove M and k from size column for which we are using apply method with lambda function using if else and replace method to replace M And k with empty string then we will dealing with 'varies with device'."
      ],
      "metadata": {
        "id": "aV_5e6ZNcTdJ"
      }
    },
    {
      "cell_type": "code",
      "source": [
        "## 'Size' column - convert kbs to mbs and removing M,k\n",
        "play_store_data_df['Size'] = play_store_data_df['Size'].apply(lambda x: str(x).replace('Varies with device', 'NaN') if 'Varies with device' in str(x) else x)\n",
        "play_store_data_df['Size'] = play_store_data_df['Size'].apply(lambda x: str(x).replace('M', '') if 'M' in str(x) else x)\n",
        "play_store_data_df['Size'] = play_store_data_df['Size'].apply(lambda x: str(x).replace(',', '') if 'M' in str(x) else x)\n",
        "play_store_data_df['Size'] = play_store_data_df['Size'].apply(lambda x: float(str(x).replace('k', '')) / 1024 if 'k' in str(x) else x)\n",
        "#change data type of size\n",
        "play_store_data_df['Size'] = play_store_data_df['Size'].astype(float)"
      ],
      "metadata": {
        "id": "i69ZcsNo8hEV"
      },
      "execution_count": null,
      "outputs": []
    },
    {
      "cell_type": "markdown",
      "source": [
        "As there are so many value of varies with device that cant be used in analysis so we try to replace them with mean or median."
      ],
      "metadata": {
        "id": "QgdunFfk-CEk"
      }
    },
    {
      "cell_type": "code",
      "source": [
        "#Calculate mean, and median in the Size column without the 'Varies with device' values.\n",
        "\n",
        "mean_size = round(play_store_data_df[play_store_data_df['Size'] != 'Varies with device']['Size'].mean(),2)\n",
        "median_size = play_store_data_df[play_store_data_df['Size'] != 'Varies with device']['Size'].median()\n",
        "\n",
        "print(f\"Mean for size column is {mean_size} and Median is {median_size}\")"
      ],
      "metadata": {
        "id": "9oqsIg4UmcKc"
      },
      "execution_count": null,
      "outputs": []
    },
    {
      "cell_type": "markdown",
      "source": [
        "Visualization of distribution of Size column using displot and detecting the outliers through boxplot."
      ],
      "metadata": {
        "id": "Lf86vI9c_4ds"
      }
    },
    {
      "cell_type": "code",
      "source": [
        "fig, ax = plt.subplots(2,1, figsize=(12,7))\n",
        "sns.set_theme(style = \"white\")\n",
        "\n",
        "sns.distplot(play_store_data_df[play_store_data_df['Size'] != 'Varies with device']['Size'], color='green', ax=ax[0])\n",
        "sns.boxplot(x='Size',data=play_store_data_df, ax=ax[1])"
      ],
      "metadata": {
        "id": "hxQ6hr59AAX7"
      },
      "execution_count": null,
      "outputs": []
    },
    {
      "cell_type": "markdown",
      "source": [
        "It is clear from the visualizations that the data in the Size column is skewed towards the right.\n",
        "Also, we see that a vast majority of the entries in this column are of the value 'Varies with device', replacing this with any central tendency value (mean or median) may give incorrect visualizations and results. Hence these values are left as it is."
      ],
      "metadata": {
        "id": "u2v9az-uBvTP"
      }
    },
    {
      "cell_type": "code",
      "source": [
        "# Check unique number of install in 'Install' column -\n",
        "play_store_data_df['Installs'].unique()"
      ],
      "metadata": {
        "id": "Js63ZJNp83ZF"
      },
      "execution_count": null,
      "outputs": []
    },
    {
      "cell_type": "code",
      "source": [
        "# as install column contain values with ',' and '+' , so we have to replace it with empty string and convert it into int\n",
        "play_store_data_df['Installs'] = play_store_data_df['Installs'].apply(lambda x:x.replace(\"+\",\"\").replace(\",\",\"\").strip() if \"+\" in str(x) else x)\n",
        "play_store_data_df['Installs'] = play_store_data_df['Installs'].apply(lambda x:int(x))\n",
        "play_store_data_df['Installs'].dtype"
      ],
      "metadata": {
        "id": "KyK_kdwJ83Mq"
      },
      "execution_count": null,
      "outputs": []
    },
    {
      "cell_type": "code",
      "source": [
        "# Check unique number of types in 'Type' column -\n",
        "play_store_data_df['Type'].unique()"
      ],
      "metadata": {
        "id": "URFpSOOW8280"
      },
      "execution_count": null,
      "outputs": []
    },
    {
      "cell_type": "code",
      "source": [
        "# Check unique number of price in 'Price' column -\n",
        "play_store_data_df['Price'].unique()"
      ],
      "metadata": {
        "id": "Zi_uUiIeJrJe"
      },
      "execution_count": null,
      "outputs": []
    },
    {
      "cell_type": "code",
      "source": [
        "## Remove \"$\" from \"Price\" columns to make it numeric\n",
        "play_store_data_df['Price'] = play_store_data_df['Price'].apply(lambda x: str(x).replace('$', '') if '$' in str(x) else str(x))\n",
        "\n",
        "play_store_data_df['Price'] = play_store_data_df['Price'].apply(lambda x:float(x))"
      ],
      "metadata": {
        "id": "rmYv33K8KXiN"
      },
      "execution_count": null,
      "outputs": []
    },
    {
      "cell_type": "code",
      "source": [
        "# Check unique number of content ratings in 'Content Rating' column -\n",
        "play_store_data_df['Content Rating'].unique()"
      ],
      "metadata": {
        "id": "iF3Uagh0LrUU"
      },
      "execution_count": null,
      "outputs": []
    },
    {
      "cell_type": "code",
      "source": [
        "# Check unique number of genres in 'Genres' column -\n",
        "play_store_data_df['Genres'].unique()"
      ],
      "metadata": {
        "id": "eNvGtl6fNxMK"
      },
      "execution_count": null,
      "outputs": []
    },
    {
      "cell_type": "code",
      "source": [
        "# Check unique number of updates in 'Last Updated' column -\n",
        "play_store_data_df['Last Updated'].unique()"
      ],
      "metadata": {
        "id": "RIsLQOgKON_S"
      },
      "execution_count": null,
      "outputs": []
    },
    {
      "cell_type": "code",
      "source": [
        "#Changing the datatype of the Last Updated column from string to datetime.\n",
        "play_store_data_df[\"Last Updated\"] = pd.to_datetime(play_store_data_df['Last Updated'])"
      ],
      "metadata": {
        "id": "eQjJh1kbzDLu"
      },
      "execution_count": null,
      "outputs": []
    },
    {
      "cell_type": "code",
      "source": [
        "# Check unique number of versions in 'Current Ver' column -\n",
        "play_store_data_df['Current Ver'].unique()"
      ],
      "metadata": {
        "id": "WhSoV3ghOd5c"
      },
      "execution_count": null,
      "outputs": []
    },
    {
      "cell_type": "code",
      "source": [
        "# Check unique number of Android Version in 'Android Ver' column -\n",
        "play_store_data_df['Android Ver'].unique()"
      ],
      "metadata": {
        "id": "CKypZ-iKOfpR"
      },
      "execution_count": null,
      "outputs": []
    },
    {
      "cell_type": "code",
      "source": [
        "#Now check again both dataset final view after cleaning process\n",
        "play_store_data_df.info()"
      ],
      "metadata": {
        "id": "1Dwb-0gnfEAO"
      },
      "execution_count": null,
      "outputs": []
    },
    {
      "cell_type": "code",
      "source": [
        "user_review_df.info()"
      ],
      "metadata": {
        "id": "53r973jIfZQ9"
      },
      "execution_count": null,
      "outputs": []
    },
    {
      "cell_type": "markdown",
      "source": [
        "##*Now as we clean all nan value and correct the data types,our given datasets are ready to analysed.*"
      ],
      "metadata": {
        "id": "hPIMcOktBMIl"
      }
    },
    {
      "cell_type": "markdown",
      "source": [
        "## 3. ***Data Wrangling***"
      ],
      "metadata": {
        "id": "dauF4eBmngu3"
      }
    },
    {
      "cell_type": "markdown",
      "source": [
        "### Data Wrangling Code"
      ],
      "metadata": {
        "id": "bKJF3rekwFvQ"
      }
    },
    {
      "cell_type": "markdown",
      "source": [
        "1).**UNIVARIATE ANALYSIS**"
      ],
      "metadata": {
        "id": "ZCWbbyju432n"
      }
    },
    {
      "cell_type": "code",
      "source": [
        "#problem statement-1:which category has highest share of app in market?\n",
        "\n",
        "# Count the number of apps in each category\n",
        "category_counts = play_store_data_df[\"Category\"].value_counts()\n",
        "category_counts"
      ],
      "metadata": {
        "id": "6Rrlvy8mi3w_"
      },
      "execution_count": null,
      "outputs": []
    },
    {
      "cell_type": "code",
      "source": [
        "#problem statament-2: what is distribution of Apps rating?\n",
        "\n",
        "# Calculate some basic statistics on the app rating\n",
        "rating_mean = play_store_data_df['Rating'].mean()\n",
        "rating_median = play_store_data_df['Rating'].median()\n",
        "rating_mode = play_store_data_df['Rating'].mode()[0]\n",
        "rating_std = play_store_data_df['Rating'].std()\n",
        "print(f\"mean:{rating_mean}, median:{rating_median}, mode:{rating_mode}, standard deviation:{rating_std}\")"
      ],
      "metadata": {
        "id": "wk-9a2fpoLcV"
      },
      "execution_count": null,
      "outputs": []
    },
    {
      "cell_type": "code",
      "source": [
        "#problem statement-3: Which content Rating has highest count?\n",
        "content_ratings_counts = play_store_data_df['Content Rating'].value_counts().reset_index()\n",
        "content_ratings_counts.columns = ['Content Rating', 'Count']\n",
        "content_ratings_counts"
      ],
      "metadata": {
        "id": "MJLcIAZ-4Ynw"
      },
      "execution_count": null,
      "outputs": []
    },
    {
      "cell_type": "code",
      "source": [
        "#problem statement-4: Which Genres have most number of apps?\n",
        "genre_counts = play_store_data_df['Genres'].value_counts().reset_index().head(10)\n",
        "genre_counts.columns = ['Genre', 'Count']\n",
        "genre_counts\n"
      ],
      "metadata": {
        "id": "L8F4agEO9Uc7"
      },
      "execution_count": null,
      "outputs": []
    },
    {
      "cell_type": "code",
      "source": [
        "#problem statement-5: what are the sentiments of people towards apps?\n",
        "\n",
        "# Count the number of positive, neutral, and negative reviews\n",
        "\n",
        "positive = len(user_review_df[user_review_df['Sentiment'] == 'Positive'])\n",
        "neutral = len(user_review_df[user_review_df['Sentiment'] == 'Neutral'])\n",
        "negative = len(user_review_df[user_review_df['Sentiment'] == 'Negative'])\n",
        "\n",
        "print(f\"positve sentiments:{positive}, neutral sentiments:{neutral}, negative sentiments:{negative}\")"
      ],
      "metadata": {
        "id": "geM58IliARBD"
      },
      "execution_count": null,
      "outputs": []
    },
    {
      "cell_type": "markdown",
      "source": [
        "**2).BIVARIATE ANALYSIS**"
      ],
      "metadata": {
        "id": "n9Cbm9qWF1Q-"
      }
    },
    {
      "cell_type": "code",
      "source": [
        "#problem statement-6: is there any Correlation between App Size and ratings?\n",
        "\n",
        "# Correlation coefficient between App Size and Rating\n",
        "corr_coef = play_store_data_df[\"Size\"].corr(play_store_data_df[\"Rating\"])\n",
        "print(f\"Correlation coefficient between App Size and Rating: {corr_coef}\")"
      ],
      "metadata": {
        "id": "bpftM9ZQF-IF"
      },
      "execution_count": null,
      "outputs": []
    },
    {
      "cell_type": "code",
      "source": [
        "# problem statement-7: how is price trending across some categories?\n",
        "# we take some top categories\n",
        "top_categories = play_store_data_df.groupby('Category').filter(lambda x: len(x) >= 170).reset_index()\n",
        "top_categories"
      ],
      "metadata": {
        "id": "mi0LCmCcZbOB"
      },
      "execution_count": null,
      "outputs": []
    },
    {
      "cell_type": "code",
      "source": [
        "#problem statement-8: Is subjectivity and polarity proportional to each other?\n",
        "# as we already cleaned the irrevalent data and handles all nan values,lets a look before visualizng\n",
        "user_review_df.info()\n"
      ],
      "metadata": {
        "id": "RjP5WvzAoRCc"
      },
      "execution_count": null,
      "outputs": []
    },
    {
      "cell_type": "code",
      "source": [
        "#problem statement-9:what are top 10 downloaded apps based on reviews and what's difference between their rating & reviews?\n",
        "\n",
        "\n",
        "#Getting the top downloaded 10 apps and their Ratings vs Reviews\n",
        "top_downloaded_apps = play_store_data_df[['App', 'Rating', 'Reviews', 'Installs']].sort_values(['Installs','Rating'], ascending=False).head(50)\n",
        "top_10_downloaded_apps = top_downloaded_apps.head(10).set_index('App')[['Rating','Reviews']].sort_values(['Reviews'])\n",
        "\n",
        "top_10_downloaded_apps"
      ],
      "metadata": {
        "id": "ZB2piV8mLzCO"
      },
      "execution_count": null,
      "outputs": []
    },
    {
      "cell_type": "markdown",
      "source": [
        "**3).MULTIVARIATE ANALYSIS**"
      ],
      "metadata": {
        "id": "rFvoWkp6pqT3"
      }
    },
    {
      "cell_type": "markdown",
      "source": [
        "First,we use a pairplot as It is a visualization technique that allows us to plot pairwise relationships between multiple variables in a dataset.\n",
        "\n",
        "Pairplot is useful for identifying correlations and patterns between multiple variables in a dataset. It can be especially useful in exploratory data analysis, as it allows us to quickly examine the relationships between multiple variables and identify any interesting features or outliers. "
      ],
      "metadata": {
        "id": "F0cWQAgLq96L"
      }
    },
    {
      "cell_type": "code",
      "source": [
        "#problem Statement-10:Is there any corelation between Rating,Size,Installs,Reviews and Price?\n",
        "Rating = play_store_data_df['Rating']\n",
        "Size = play_store_data_df['Size']\n",
        "Installs = play_store_data_df['Installs']\n",
        "Reviews = play_store_data_df['Reviews']\n",
        "Type = play_store_data_df['Type']\n",
        "Price = play_store_data_df['Price']"
      ],
      "metadata": {
        "id": "ozyzgB3xpzEf"
      },
      "execution_count": null,
      "outputs": []
    },
    {
      "cell_type": "code",
      "source": [
        "#problem statement-11: Is there any corelation between all quantitative value in both datasets?\n",
        "#for this we have to merge both dataframe\n",
        "merged_df = pd.merge(play_store_data_df, user_review_df, on='App', how = \"inner\")\n",
        "merged_df"
      ],
      "metadata": {
        "id": "3Z__p1QruqfG"
      },
      "execution_count": null,
      "outputs": []
    },
    {
      "cell_type": "code",
      "source": [
        "merged_df.corr()"
      ],
      "metadata": {
        "id": "iwxFyc_svqS2"
      },
      "execution_count": null,
      "outputs": []
    },
    {
      "cell_type": "markdown",
      "source": [
        "### What all manipulations have you done and insights you found?"
      ],
      "metadata": {
        "id": "MSa1f5Uengrz"
      }
    },
    {
      "cell_type": "markdown",
      "source": [
        "we use different methods and functions like count_value,reset_index,len() etc for organising our cleaned data and get the disered result according to problem statement and talking about insights we have found are as we have category with highest share of apps,distribution of app rating,content rating and genre with most numbers,relation with app size and rating,correlation between any two or multiple variable using pairplot and heatmap. we have discussed more about particular insight according to problem statements in data visualization ."
      ],
      "metadata": {
        "id": "LbyXE7I1olp8"
      }
    },
    {
      "cell_type": "markdown",
      "source": [
        "## ***4. Data Vizualization, Storytelling & Experimenting with charts : Understand the relationships between variables***"
      ],
      "metadata": {
        "id": "GF8Ens_Soomf"
      }
    },
    {
      "cell_type": "markdown",
      "source": [
        "#### Chart - 1"
      ],
      "metadata": {
        "id": "0wOQAZs5pc--"
      }
    },
    {
      "cell_type": "code",
      "source": [
        "# Chart - 1 visualization code\n",
        "#which category has highest share of app in market?\n",
        "\n",
        "\n",
        "# Count plot of App Categories\n",
        "plt.figure(figsize=(8,3))\n",
        "sns.countplot(x=\"Category\", data=play_store_data_df)\n",
        "plt.xticks(rotation=90)\n",
        "plt.xlabel(\"App Categories\")\n",
        "plt.ylabel(\"Count\")\n",
        "plt.show()\n",
        "\n",
        "# Pie chart of App Categories\n",
        "plt.figure(figsize=(5,6))\n",
        "plt.pie(category_counts, labels=category_counts.index, autopct=\"%1.1f%%\",textprops={'fontsize': 7})\n",
        "plt.axis(\"equal\")\n",
        "plt.show()\n",
        "\n"
      ],
      "metadata": {
        "id": "7v_ESjsspbW7"
      },
      "execution_count": null,
      "outputs": []
    },
    {
      "cell_type": "markdown",
      "source": [
        "##### 1. Why did you pick the specific chart?"
      ],
      "metadata": {
        "id": "K5QZ13OEpz2H"
      }
    },
    {
      "cell_type": "markdown",
      "source": [
        "The countplot shows the absolute number of apps in each category, allowing you to quickly see which categories have the most and least number of apps. This information can be useful for making decisions related to app development or marketing, as it can give insights into which categories are most and least competitive.\n",
        "\n",
        "The pie chart, on the other hand, shows the relative share of apps in each category as a percentage of the total number of apps in the dataset. This information can be useful for understanding the overall composition of the dataset and identifying any trends or patterns in the distribution of app categories."
      ],
      "metadata": {
        "id": "XESiWehPqBRc"
      }
    },
    {
      "cell_type": "markdown",
      "source": [
        "##### 2. What is/are the insight(s) found from the chart?"
      ],
      "metadata": {
        "id": "lQ7QKXXCp7Bj"
      }
    },
    {
      "cell_type": "markdown",
      "source": [
        "apps in family category has the highest share of active apps in the market with 19%."
      ],
      "metadata": {
        "id": "C_j1G7yiqdRP"
      }
    },
    {
      "cell_type": "markdown",
      "source": [
        "##### 3. Will the gained insights help creating a positive business impact? \n",
        "Are there any insights that lead to negative growth? Justify with specific reason."
      ],
      "metadata": {
        "id": "448CDAPjqfQr"
      }
    },
    {
      "cell_type": "markdown",
      "source": [
        "By understanding the distribution of app categories, developers can identify which categories are most popular and competitive, and tailor their app development and marketing strategies accordingly. For example, they might choose to focus on categories with a high demand but low competition, or find ways to differentiate their apps within highly competitive categories.\n",
        "\n",
        "On the other hand, there may be insights that lead to negative growth. For example, if a developer discovers that the category they were planning to develop an app for is highly competitive with a large number of apps, they may decide not to proceed with their plans or pivot to a different category. Additionally, if a developer discovers that the category they were targeting has a low demand or low user engagement, they may need to adjust their app's features or marketing strategy to improve its appeal to users.\n",
        "\n",
        "Overall, the insights gained from analyzing the given chart can have both positive and negative impacts on business growth, depending on how they are interpreted and acted upon."
      ],
      "metadata": {
        "id": "3cspy4FjqxJW"
      }
    },
    {
      "cell_type": "markdown",
      "source": [
        "#### Chart - 2"
      ],
      "metadata": {
        "id": "KSlN3yHqYklG"
      }
    },
    {
      "cell_type": "code",
      "source": [
        "# Chart - 2 visualization code\n",
        "\n",
        "#problem statament-2: what is distribution of Apps rating?\n",
        "\n",
        "# Create a histogram of the app rating\n",
        "fig, ax = plt.subplots(figsize=(8, 6))\n",
        "plt.hist(play_store_data_df['Rating'], bins=10, color='blue', alpha=0.5)\n",
        "plt.axvline(rating_mean, color='red', linestyle='dashed', linewidth=1, label=f\"Mean: {rating_mean:.2f}\")\n",
        "plt.axvline(rating_median, color='green', linestyle='dashed', linewidth=1, label=f\"Median: {rating_median}\")\n",
        "plt.axvline(rating_mode, color='purple', linestyle='dashed', linewidth=1, label=f\"Mode: {rating_mode}\")\n",
        "plt.legend()\n",
        "plt.title('Distribution of App Ratings')\n",
        "plt.xlabel('Rating')\n",
        "plt.ylabel('Frequency')\n",
        "plt.show()"
      ],
      "metadata": {
        "id": "R4YgtaqtYklH"
      },
      "execution_count": null,
      "outputs": []
    },
    {
      "cell_type": "markdown",
      "source": [
        "##### 1. Why did you pick the specific chart?"
      ],
      "metadata": {
        "id": "t6dVpIINYklI"
      }
    },
    {
      "cell_type": "markdown",
      "source": [
        "A histogram divides the range of values into intervals (also called bins) and counts the number of values that fall into each interval. The resulting plot shows the frequency of each interval, which provides an estimate of the distribution of the underlying dataset."
      ],
      "metadata": {
        "id": "5aaW0BYyYklI"
      }
    },
    {
      "cell_type": "markdown",
      "source": [
        "##### 2. What is/are the insight(s) found from the chart?"
      ],
      "metadata": {
        "id": "ijmpgYnKYklI"
      }
    },
    {
      "cell_type": "markdown",
      "source": [
        "Most of the apps have the average rating above 4.3"
      ],
      "metadata": {
        "id": "PSx9atu2YklI"
      }
    },
    {
      "cell_type": "markdown",
      "source": [
        "##### 3. Will the gained insights help creating a positive business impact? \n",
        "Are there any insights that lead to negative growth? Justify with specific reason."
      ],
      "metadata": {
        "id": "-JiQyfWJYklI"
      }
    },
    {
      "cell_type": "markdown",
      "source": [
        "The insights gained from a histogram of app ratings could potentially help create a positive business impact by providing insights into user preferences and behavior in the app marketplace. For example, if the histogram shows that a large number of apps have ratings between 4.0 and 4.5, it suggests that this is a popular rating range among users. This information could be used by app developers and marketers to tailor their products and marketing strategies to better meet user preferences and drive user engagement.\n",
        "\n",
        "However, there could also be insights gained from the histogram that could lead to negative growth if not addressed properly. For instance, if the histogram shows a large number of apps with low ratings (e.g., less than 3.0), it suggests that there may be issues with app quality or user experience that need to be addressed. If these issues are not addressed, it could lead to negative reviews, decreased user engagement, and ultimately, decreased revenue.\n",
        "\n",
        "Therefore, it's important to carefully analyze the insights gained from a histogram of app ratings and take action where necessary to address any issues that could negatively impact business growth."
      ],
      "metadata": {
        "id": "BcBbebzrYklV"
      }
    },
    {
      "cell_type": "markdown",
      "source": [
        "#### Chart - 3"
      ],
      "metadata": {
        "id": "EM7whBJCYoAo"
      }
    },
    {
      "cell_type": "code",
      "source": [
        "# Chart - 3 visualization code\n",
        "# problem Statement-3:- Which content Rating has highest count?\n",
        "\n",
        "# Create a line plot of app content ratings\n",
        "\n",
        "plt.figure(figsize=(10,6))\n",
        "sns.barplot(data=content_ratings_counts, x='Content Rating', y='Count', color='blue')\n",
        "sns.set_style(\"white\")\n",
        "plt.title('Count of Apps by Content Rating')\n",
        "plt.xlabel('Content Rating')\n",
        "plt.ylabel('Count')\n",
        "plt.show()\n"
      ],
      "metadata": {
        "id": "t6GMdE67YoAp"
      },
      "execution_count": null,
      "outputs": []
    },
    {
      "cell_type": "markdown",
      "source": [
        "##### 1. Why did you pick the specific chart?"
      ],
      "metadata": {
        "id": "fge-S5ZAYoAp"
      }
    },
    {
      "cell_type": "markdown",
      "source": [
        "A bar plot is a good choice for visualizing the count of apps by content rating because it shows the number of apps in each category using rectangular bars, where the height of each bar represents the count of apps in that category. This allows us to easily compare the number of apps in each category and identify the category with the highest count of apps."
      ],
      "metadata": {
        "id": "5dBItgRVYoAp"
      }
    },
    {
      "cell_type": "markdown",
      "source": [
        "##### 2. What is/are the insight(s) found from the chart?"
      ],
      "metadata": {
        "id": "85gYPyotYoAp"
      }
    },
    {
      "cell_type": "markdown",
      "source": [
        "From the bar plot that shows the count of apps by content rating, we can see that the \"Everyone\" content rating has the highest count, followed by the \"Teen\" and \"Mature 17+\" content ratings. This indicates that the majority of apps in the Google Play Store are suitable for all audiences, which may reflect the overall trend of increasing adoption and usage of mobile devices across different age groups.\n",
        "\n"
      ],
      "metadata": {
        "id": "4jstXR6OYoAp"
      }
    },
    {
      "cell_type": "markdown",
      "source": [
        "##### 3. Will the gained insights help creating a positive business impact? \n",
        "Are there any insights that lead to negative growth? Justify with specific reason."
      ],
      "metadata": {
        "id": "RoGjAbkUYoAp"
      }
    },
    {
      "cell_type": "markdown",
      "source": [
        "The gained insight that \"Everyone\" content rating has the highest count in the Google Play Store can potentially help create a positive business impact for app developers and marketers. They can use this information to make informed decisions about the content rating of their apps and tailor their marketing strategies accordingly. For example, developers targeting a wide range of audiences can choose to rate their apps as \"Everyone\" to maximize their reach and increase their app's visibility.\n",
        "\n",
        "On the other hand, there are no specific insights from this analysis that would lead to negative growth. However, it is important to note that content rating is just one factor that affects the success of an app, and developers should consider other factors such as app functionality, user interface, and competition while making decisions about their app's content rating."
      ],
      "metadata": {
        "id": "zfJ8IqMcYoAp"
      }
    },
    {
      "cell_type": "markdown",
      "source": [
        "#### Chart - 4"
      ],
      "metadata": {
        "id": "4Of9eVA-YrdM"
      }
    },
    {
      "cell_type": "code",
      "source": [
        "# Chart - 4 visualization code\n",
        "#problem statement-4: Which Genres have most number of apps?\n",
        "# Create a pie chart of app genres\n",
        "plt.figure(figsize=(10,8))\n",
        "plt.pie(genre_counts['Count'], labels=genre_counts['Genre'], autopct='%1.1f%%')\n",
        "plt.title('Top 10 App Genres')\n",
        "plt.show()"
      ],
      "metadata": {
        "id": "irlUoxc8YrdO"
      },
      "execution_count": null,
      "outputs": []
    },
    {
      "cell_type": "markdown",
      "source": [
        "##### 1. Why did you pick the specific chart?"
      ],
      "metadata": {
        "id": "iky9q4vBYrdO"
      }
    },
    {
      "cell_type": "markdown",
      "source": [
        "A pie chart is useful when we want to visualize the parts of a whole and understand their relative sizes. It provides a quick and easy way to understand the relative distribution of counts across different genres."
      ],
      "metadata": {
        "id": "aJRCwT6DYrdO"
      }
    },
    {
      "cell_type": "markdown",
      "source": [
        "##### 2. What is/are the insight(s) found from the chart?"
      ],
      "metadata": {
        "id": "F6T5p64dYrdO"
      }
    },
    {
      "cell_type": "markdown",
      "source": [
        "There is high competition in the \"Tools\" category as it has the highest number of apps, and app developers may need to focus on developing unique and innovative features to stand out in this category. Additionally, the high number of apps in the \"Entertainment\" and \"Education\" categories indicates that there is a demand for apps in these categories, and developers may consider investing in these categories for potential growth opportunities."
      ],
      "metadata": {
        "id": "Xx8WAJvtYrdO"
      }
    },
    {
      "cell_type": "markdown",
      "source": [
        "##### 3. Will the gained insights help creating a positive business impact? \n",
        "Are there any insights that lead to negative growth? Justify with specific reason."
      ],
      "metadata": {
        "id": "y-Ehk30pYrdP"
      }
    },
    {
      "cell_type": "markdown",
      "source": [
        "Based on the pie chart showing the most common app genres, we can see that the \"Tools\" genre has the highest number of apps. This insight could help businesses that are interested in creating apps to focus on the \"Tools\" genre, as it seems to be in high demand."
      ],
      "metadata": {
        "id": "jLNxxz7MYrdP"
      }
    },
    {
      "cell_type": "markdown",
      "source": [
        "#### Chart - 5"
      ],
      "metadata": {
        "id": "bamQiAODYuh1"
      }
    },
    {
      "cell_type": "code",
      "source": [
        "# Chart - 5 visualization code\n",
        "#problem statement-5: what are the sentiments of people towards apps?\n",
        "# create a count plot\n",
        "sns.set(style=\"whitegrid\")\n",
        "sns.set_palette(\"husl\")\n",
        "\n",
        "plt.figure(figsize=(6,3))\n",
        "ax = sns.countplot(x=\"Sentiment\", data=user_review_df, palette=\"husl\")\n",
        "ax.set_xlabel(\"Sentiment\", fontsize=14)\n",
        "ax.set_ylabel(\"Count\", fontsize=14)\n",
        "ax.set_title(\"Distribution of Sentiments in User Reviews\", fontsize=16)\n",
        "plt.show()\n",
        "#Percentage of Review sentiments\n",
        "user_review_df['Sentiment'].value_counts().plot(kind='pie',fontsize=12, explode = (0.1,0.1,0.1),colors  = (\"#548B54\", \"#872657\", \"#333333\") ,shadow=True, autopct='%1.2f%%', pctdistance=1.5)\n",
        "plt.show()\n"
      ],
      "metadata": {
        "id": "TIJwrbroYuh3"
      },
      "execution_count": null,
      "outputs": []
    },
    {
      "cell_type": "markdown",
      "source": [
        "##### 1. Why did you pick the specific chart?"
      ],
      "metadata": {
        "id": "QHF8YVU7Yuh3"
      }
    },
    {
      "cell_type": "markdown",
      "source": [
        "The countplot is used to visualize the distribution of categorical data. In this case, it is used to visualize the distribution of sentiments of user reviews in the Play Store app dataset. The x-axis shows the different sentiments (positive, negative, and neutral) and the y-axis shows the count of the user reviews with each sentiment. It helps to provide a clear understanding of the distribution of sentiments and the relative frequency of each sentiment in the dataset.\n",
        "\n",
        "\n",
        "\n"
      ],
      "metadata": {
        "id": "dcxuIMRPYuh3"
      }
    },
    {
      "cell_type": "markdown",
      "source": [
        "##### 2. What is/are the insight(s) found from the chart?"
      ],
      "metadata": {
        "id": "GwzvFGzlYuh3"
      }
    },
    {
      "cell_type": "markdown",
      "source": [
        "Majority of the app reviews have positive polarity, followed by negative and neutral polarity.\n",
        "There is a significant difference in the number of positive polarity reviews compared to the number of negative and neutral polarity reviews.\n",
        "The number of negative polarity reviews is the lowest among the three, indicating that the majority of users have a positive sentiment towards the apps in the dataset."
      ],
      "metadata": {
        "id": "uyqkiB8YYuh3"
      }
    },
    {
      "cell_type": "markdown",
      "source": [
        "##### 3. Will the gained insights help creating a positive business impact? \n",
        "Are there any insights that lead to negative growth? Justify with specific reason."
      ],
      "metadata": {
        "id": "qYpmQ266Yuh3"
      }
    },
    {
      "cell_type": "markdown",
      "source": [
        "The insights gained from the countplot on the sentiments of people towards apps can help in creating a positive business impact. By understanding the distribution of sentiments, app developers and businesses can tailor their marketing and development strategies to better meet the needs and expectations of their target audience."
      ],
      "metadata": {
        "id": "_WtzZ_hCYuh4"
      }
    },
    {
      "cell_type": "markdown",
      "source": [
        "#### Chart - 6"
      ],
      "metadata": {
        "id": "OH-pJp9IphqM"
      }
    },
    {
      "cell_type": "code",
      "source": [
        "# Chart - 6 visualization code\n",
        "#problem statement-6: is there any Correlation between App Size and ratings?\n",
        "\n",
        "# Scatter plot of App Size vs. Rating\n",
        "plt.figure(figsize=(10,6))\n",
        "sns.scatterplot(x=\"Size\", y=\"Rating\", data=play_store_data_df,color ='g')\n",
        "plt.xlabel(\"App Size (MB)\")\n",
        "plt.ylabel(\"App Rating\")\n",
        "plt.title('Correlation between App Size and Rating in Play Store')\n",
        "plt.show()\n"
      ],
      "metadata": {
        "id": "kuRf4wtuphqN"
      },
      "execution_count": null,
      "outputs": []
    },
    {
      "cell_type": "markdown",
      "source": [
        "##### 1. Why did you pick the specific chart?"
      ],
      "metadata": {
        "id": "bbFf2-_FphqN"
      }
    },
    {
      "cell_type": "markdown",
      "source": [
        "I picked a scatter plot to visualize the correlation between app size and rating because it's a commonly used plot for visualizing the relationship between two continuous variables. In a scatter plot, each point represents a combination of values for the two variables being compared, and the position of the point on the plot indicates the value of the two variables for that observation.\n",
        "\n",
        "If there's a strong positive correlation between app size and rating, we would expect to see the points trend upward from left to right. If there's a strong negative correlation, we would expect to see the points trend downward from left to right. If there's no correlation, we would expect to see the points scattered randomly throughout the plot.\n",
        "\n",
        "\n",
        "\n"
      ],
      "metadata": {
        "id": "loh7H2nzphqN"
      }
    },
    {
      "cell_type": "markdown",
      "source": [
        "##### 2. What is/are the insight(s) found from the chart?"
      ],
      "metadata": {
        "id": "_ouA3fa0phqN"
      }
    },
    {
      "cell_type": "markdown",
      "source": [
        "There is no strong correlation between app size and rating: The scatter plot shows that the points are scattered randomly throughout the plot, with no clear trend or pattern. This suggests that there is no strong correlation between app size and rating in the dataset.\n",
        "\n",
        "Most apps have a rating between 4 and 5: The majority of the points on the y-axis (rating) fall between 4 and 5, indicating that most apps in the dataset have a high rating."
      ],
      "metadata": {
        "id": "VECbqPI7phqN"
      }
    },
    {
      "cell_type": "markdown",
      "source": [
        "##### 3. Will the gained insights help creating a positive business impact? \n",
        "Are there any insights that lead to negative growth? Justify with specific reason."
      ],
      "metadata": {
        "id": "Seke61FWphqN"
      }
    },
    {
      "cell_type": "markdown",
      "source": [
        "Positive impact:\n",
        "\n",
        "If the business is interested in developing smaller apps that still have a high rating, the scatter plot suggests that this is possible, as there are many apps in the dataset with high ratings and small sizes.\n",
        "If the business is interested in developing larger apps with a high rating, they may need to investigate the outliers in the dataset that have a large size but still maintain a high rating to understand what factors contribute to their success.\n",
        "\n",
        "Negative impact:\n",
        "\n",
        "If the business is focused on developing larger apps that are guaranteed to have a high rating, the scatter plot suggests that there is no clear correlation between size and rating, and the business may need to consider other factors that contribute to a high rating.\n",
        "If the business assumes that larger apps are inherently better and therefore dedicates more resources to developing larger apps, they may be overlooking the potential for smaller apps with high ratings to be successful and miss out on opportunities to develop smaller, more efficient apps.\n"
      ],
      "metadata": {
        "id": "DW4_bGpfphqN"
      }
    },
    {
      "cell_type": "markdown",
      "source": [
        "#### Chart - 7"
      ],
      "metadata": {
        "id": "PIIx-8_IphqN"
      }
    },
    {
      "cell_type": "code",
      "source": [
        "# Chart - 7 visualization code\n",
        "# problem statement-7: what is app rating across major categories?\n",
        "sns.set_style(\"darkgrid\")\n",
        "plt.figure(figsize=(8, 4))\n",
        "plt.title(\"App Ratings Across Major Categories\", fontsize=16)\n",
        "sns.boxplot(x='Category', y='Rating', data=top_categories, palette='Set1')\n",
        "plt.xticks(rotation=90)\n",
        "plt.show()"
      ],
      "metadata": {
        "id": "lqAIGUfyphqO"
      },
      "execution_count": null,
      "outputs": []
    },
    {
      "cell_type": "markdown",
      "source": [
        "##### 1. Why did you pick the specific chart?"
      ],
      "metadata": {
        "id": "t27r6nlMphqO"
      }
    },
    {
      "cell_type": "markdown",
      "source": [
        "I chose a box plot to visualize app rating across major categories because it is an effective way to compare the distribution of ratings across multiple categories.\n",
        "\n",
        "Box plots show the median rating (red line), the interquartile range (box), and the range of ratings excluding outliers (whiskers). This allows us to see the central tendency of the data, the spread of the data, and any outliers that may exist.\n",
        "\n",
        "Using a box plot for this analysis allows us to quickly identify which categories have the highest and lowest median ratings, which categories have the most variability in ratings, and whether there are any categories with extreme values or outliers."
      ],
      "metadata": {
        "id": "iv6ro40sphqO"
      }
    },
    {
      "cell_type": "markdown",
      "source": [
        "##### 2. What is/are the insight(s) found from the chart?"
      ],
      "metadata": {
        "id": "r2jJGEOYphqO"
      }
    },
    {
      "cell_type": "markdown",
      "source": [
        "The highest median rating belongs to the \"BOOKS_AND_REFERENCE\" category, followed closely by the  and \"PERSONALIZATION\" categories. This suggests that apps in these categories tend to have higher ratings on average compared to other categories.\n",
        "\n",
        "The \"DATING\" category has the lowest median rating, followed by the \"TOOLS\" category. This indicates that apps in these categories tend to have lower ratings on average compared to other categories.\n",
        "\n",
        "The \"DATING\" category has the widest interquartile range, indicating that there is more variability in app ratings within this category compared to other categories.\n",
        "\n",
        "The \"FAMILY\" category has the narrowest interquartile range, suggesting that app ratings within this category are more consistent and less variable compared to other categories.\n",
        "\n",
        "\n"
      ],
      "metadata": {
        "id": "Po6ZPi4hphqO"
      }
    },
    {
      "cell_type": "markdown",
      "source": [
        "##### 3. Will the gained insights help creating a positive business impact? \n",
        "Are there any insights that lead to negative growth? Justify with specific reason."
      ],
      "metadata": {
        "id": "b0JNsNcRphqO"
      }
    },
    {
      "cell_type": "markdown",
      "source": [
        "App developers and business owners can use the information to better understand which categories tend to have higher or lower ratings, and adjust their strategies accordingly. For example, they may want to focus on developing apps in categories with higher median ratings, such as \"EDUCATION\" and \"BOOKS_AND_REFERENCE\", to increase the likelihood of positive user feedback."
      ],
      "metadata": {
        "id": "xvSq8iUTphqO"
      }
    },
    {
      "cell_type": "markdown",
      "source": [
        "#### Chart - 8"
      ],
      "metadata": {
        "id": "BZR9WyysphqO"
      }
    },
    {
      "cell_type": "code",
      "source": [
        "# Chart - 8 visualization code\n",
        "#problem statement-8: Is subjectivity and polarity proportional to each other?\n",
        "\n",
        "# Visualize relationship between sentiment polarity and subjectivity\n",
        "\n",
        "sns.set(style='ticks')\n",
        "g = sns.jointplot(x='Sentiment_Subjectivity', y='Sentiment_Polarity', data=user_review_df, kind='hex', cmap='coolwarm',color='g', height=6, ratio=4)\n",
        "plt.colorbar()\n",
        "g.ax_joint.tick_params(labelsize=14)\n",
        "g.ax_marg_x.tick_params(labelsize=14)\n",
        "g.ax_marg_y.tick_params(labelsize=14)\n",
        "g.set_axis_labels('Sentiment Subjectivity', 'Sentiment Polarity', fontsize=16)\n"
      ],
      "metadata": {
        "id": "TdPTWpAVphqO"
      },
      "execution_count": null,
      "outputs": []
    },
    {
      "cell_type": "markdown",
      "source": [
        "##### 1. Why did you pick the specific chart?"
      ],
      "metadata": {
        "id": "jj7wYXLtphqO"
      }
    },
    {
      "cell_type": "markdown",
      "source": [
        "The specific use of a jointplot in this case is to provide a more detailed view of the relationship between subjectivity and polarity in the sentiment data.\n",
        "\n",
        "A scatter plot, which we discussed earlier, can show the overall relationship between the two variables, but it does not provide information about the density or distribution of the data points. A jointplot, on the other hand, combines both a scatter plot and a histogram or density plot, giving us a better understanding of how subjectivity and polarity are distributed in the data.\n",
        "\n",
        "In addition, by using a hexbin plot in the center of the jointplot, we can see where the majority of the data points fall in terms of subjectivity and polarity. This can reveal any clusters or patterns in the data that may not be immediately apparent from a scatter plot.\n",
        "\n"
      ],
      "metadata": {
        "id": "Ob8u6rCTphqO"
      }
    },
    {
      "cell_type": "markdown",
      "source": [
        "##### 2. What is/are the insight(s) found from the chart?"
      ],
      "metadata": {
        "id": "eZrbJ2SmphqO"
      }
    },
    {
      "cell_type": "markdown",
      "source": [
        "The majority of user reviews have a polarity score between 0.2 and 0.8, indicating that most reviews are generally positive or mixed in sentiment.\n",
        "Reviews with a subjectivity score above 0.8 tend to have higher polarity scores, indicating that highly subjective reviews are more likely to be strongly positive or negative in sentiment.\n",
        "There are a few outliers with very high or very low polarity scores compared to the rest of the data, which may indicate particularly influential or important reviews that warrant further investigation.\n",
        "The density plot on the right-hand side of the jointplot shows that there are more reviews with lower subjectivity scores than higher ones, indicating that many reviews are more objective in nature rather than subjective."
      ],
      "metadata": {
        "id": "mZtgC_hjphqO"
      }
    },
    {
      "cell_type": "markdown",
      "source": [
        "##### 3. Will the gained insights help creating a positive business impact? \n",
        "Are there any insights that lead to negative growth? Justify with specific reason."
      ],
      "metadata": {
        "id": "rFu4xreNphqO"
      }
    },
    {
      "cell_type": "markdown",
      "source": [
        "The insights gained could potentially help businesses create a positive impact by providing a better understanding of customer sentiment and feedback. By analyzing the polarity scores, businesses can identify areas that customers are particularly happy or unhappy with, and take steps to improve or maintain these aspects of their product or service.\n",
        "\n",
        "However, there is also a risk of negative impact if the insights gained from this jointplot are not acted upon or addressed appropriately. For example, if businesses ignore negative feedback or do not make improvements based on customer sentiment, this could lead to a decline in customer satisfaction and potentially negative impact on the business's reputation and revenue."
      ],
      "metadata": {
        "id": "ey_0qi68phqO"
      }
    },
    {
      "cell_type": "markdown",
      "source": [
        "#### Chart - 9"
      ],
      "metadata": {
        "id": "YUJo2UhPDzdH"
      }
    },
    {
      "cell_type": "code",
      "source": [
        "# Chart - 9 visualization code\n",
        "#problem statement-9:what are top 10 downloaded apps based on reviews and what's difference between their rating & reviews?\n",
        "\n",
        "#Plotting between Top ratting apps and reviews\n",
        "\n",
        "color_carmine = '#960018'\n",
        "color_harvest_gold = '#da9100'\n",
        "\n",
        "Top_10_app = top_10_downloaded_apps.index\n",
        "column0 = top_10_downloaded_apps['Reviews']\n",
        "column1 = top_10_downloaded_apps['Rating']\n",
        "title0 = 'Total ratings out of 5'\n",
        "title1 = 'Total reviews in 10 millions'\n",
        "\n",
        "fig, axes = plt.subplots(figsize=(10,5), ncols=2, sharey=True)\n",
        "fig.tight_layout()\n",
        "\n",
        "axes[0].barh(Top_10_app, column0, align='center', color=color_carmine, zorder=10)\n",
        "axes[0].set_title(title0, fontsize=18, pad=10, color=color_carmine)\n",
        "axes[1].barh(Top_10_app, column1, align='center', color=color_harvest_gold, zorder=10)\n",
        "axes[1].set_title(title1, fontsize=18, pad=10, color=color_harvest_gold)\n",
        "    \n",
        "# If you have positive numbers and want to invert the x-axis of the left plot\n",
        "axes[0].invert_xaxis() \n",
        "\n",
        "# To show data from highest to lowest\n",
        "# plt.gca().invert_yaxis()\n",
        "axes[0].set(yticks=Top_10_app, yticklabels=Top_10_app)\n",
        "axes[0].yaxis.tick_left()\n",
        "\n",
        "axes[0].set_xticklabels([1, 2, 3, 4, 5])\n",
        "axes[1].set_xticklabels([0, 5, 10, 15, 20, 25,30, 35])\n",
        "\n",
        "plt.subplots_adjust(wspace=0, top=0.85, bottom=0, left=0.18, right=0.99)\n",
        "\n"
      ],
      "metadata": {
        "id": "K59kHUZlDzdJ"
      },
      "execution_count": null,
      "outputs": []
    },
    {
      "cell_type": "markdown",
      "source": [
        "##### 1. Why did you pick the specific chart?"
      ],
      "metadata": {
        "id": "wi0SPxqJDzdL"
      }
    },
    {
      "cell_type": "markdown",
      "source": [
        "Barh charts are often used to compare the magnitudes of different categories of data. They are similar to vertical bar charts, but they display the categories along the y-axis and the magnitudes along the x-axis, which can be useful for presenting data that has longer category labels. Barh charts are particularly useful when you have a large number of categories to display or when the data is best presented horizontally.\n"
      ],
      "metadata": {
        "id": "S92GgCbTDzdM"
      }
    },
    {
      "cell_type": "markdown",
      "source": [
        "##### 2. What is/are the insight(s) found from the chart?"
      ],
      "metadata": {
        "id": "3LOt_8nHDzdN"
      }
    },
    {
      "cell_type": "markdown",
      "source": [
        "* The apps have a range of ratings, from around 4.3 to 4.5.\n",
        "\n",
        "* The app with the most downloads also has the most reviews, indicating a high level of user engagement.\n",
        "\n",
        "* The app with the highest rating  has a relatively low number of reviews compared to the other apps in the top 10.\n",
        "\n",
        "* Some apps have very high ratings despite having fewer reviews than other apps in the top 10.\n",
        "* The number of reviews for the top 10 apps varies widely, with some apps having relatively few reviews compared to the other apps in the top 10."
      ],
      "metadata": {
        "id": "hZfG2b9JDzdO"
      }
    },
    {
      "cell_type": "markdown",
      "source": [
        "##### 3. Will the gained insights help creating a positive business impact? \n",
        "Are there any insights that lead to negative growth? Justify with specific reason."
      ],
      "metadata": {
        "id": "7BqPGtFXDzdP"
      }
    },
    {
      "cell_type": "markdown",
      "source": [
        "The insights gained from the \"Top 10 Downloaded Apps Based on Reviews\" bar plot can potentially help create a positive business impact for app developers and marketers in the communication, social, or video categories. By understanding that these types of apps tend to generate a lot of user engagement and reviews, app developers and marketers can focus on developing and promoting apps in these categories to increase user engagement and downloads."
      ],
      "metadata": {
        "id": "xA6sKMjEDzdQ"
      }
    },
    {
      "cell_type": "markdown",
      "source": [
        "#### Chart - 10"
      ],
      "metadata": {
        "id": "YJ55k-q6phqO"
      }
    },
    {
      "cell_type": "code",
      "source": [
        "# Chart - 10 visualization code\n",
        "#problem Statement-10:Is there any corelation between Rating,Size,Installs,Reviews and Price?\n",
        "plt.figure(figsize=(8, 4))\n",
        "# Select columns for pairwise plot\n",
        "cols = ['Rating', 'Size', 'Installs', 'Reviews', 'Price', 'Type']\n",
        "\n",
        "# Convert columns to appropriate scale\n",
        "play_store_data_df['Installs'] = np.log(play_store_data_df['Installs'])\n",
        "play_store_data_df['Reviews'] = np.log10(play_store_data_df['Reviews'])\n",
        "\n",
        "# Create pairwise plot\n",
        "p = sns.pairplot(play_store_data_df[cols], hue='Type',height=1.5, aspect=1.2)\n",
        "\n",
        "# Set plot title and adjust position\n",
        "p.fig.suptitle(\"Pairwise Plot - Rating, Size, Installs, Reviews, Price\", x=0.5, y=1.0, fontsize=16)\n",
        "\n",
        "# Display the plot\n",
        "plt.show()\n",
        "\n"
      ],
      "metadata": {
        "id": "B2aS4O1ophqO"
      },
      "execution_count": null,
      "outputs": []
    },
    {
      "cell_type": "markdown",
      "source": [
        "##### 1. Why did you pick the specific chart?"
      ],
      "metadata": {
        "id": "gCFgpxoyphqP"
      }
    },
    {
      "cell_type": "markdown",
      "source": [
        " is used to create a grid of scatter plots that shows the pairwise relationships between multiple variables in a dataset. It is a useful tool for exploring the correlations between variables in a dataset and identifying any patterns or trends that may exist.\n",
        "\n",
        "Using pairplot can help to identify potential areas of interest for further analysis and may provide valuable insights that can inform decision-making in the app development and marketing processes.\n",
        "\n",
        "\n",
        "\n"
      ],
      "metadata": {
        "id": "TVxDimi2phqP"
      }
    },
    {
      "cell_type": "markdown",
      "source": [
        "##### 2. What is/are the insight(s) found from the chart?"
      ],
      "metadata": {
        "id": "OVtJsKN_phqQ"
      }
    },
    {
      "cell_type": "markdown",
      "source": [
        "There seems to be a positive correlation between the number of installs and the number of reviews. This makes sense, as more installs are likely to lead to more reviews.\n",
        "\n",
        "There is no clear relationship between the rating of an app and its size or price. However, there is a slight positive correlation between rating and the number of reviews, indicating that apps with higher ratings tend to receive more reviews.\n",
        "\n",
        "There is no clear relationship between app size and the number of installs or reviews. However, larger apps tend to have higher prices.\n",
        "\n",
        "There is a clear positive correlation between the number of installs and app size, indicating that users may be more likely to install larger apps.\n",
        "\n",
        "There is a positive correlation between the number of installs and price, suggesting that users may be willing to pay more for apps with more installs."
      ],
      "metadata": {
        "id": "ngGi97qjphqQ"
      }
    },
    {
      "cell_type": "markdown",
      "source": [
        "##### 3. Will the gained insights help creating a positive business impact? \n",
        "Are there any insights that lead to negative growth? Justify with specific reason."
      ],
      "metadata": {
        "id": "lssrdh5qphqQ"
      }
    },
    {
      "cell_type": "markdown",
      "source": [
        "The positive correlation between the number of installs and the number of reviews suggests that focusing on increasing app installs can lead to more reviews, which can in turn help attract more users and increase app visibility.\n",
        "\n",
        "The positive correlation between the number of installs and price suggests that users may be willing to pay more for apps that are more popular, indicating potential pricing strategies for apps that have high install rates.\n",
        "\n",
        "Negative Impact-\n",
        "\n",
        "The lack of clear relationships between app size, rating, and price could make it more difficult to optimize pricing strategies or identify areas for app improvement.\n",
        "\n",
        "The positive correlation between the number of installs and price could potentially lead to pricing strategies that prioritize profits over user experience, which could lead to negative reviews and decreased app installs in the long term."
      ],
      "metadata": {
        "id": "tBpY5ekJphqQ"
      }
    },
    {
      "cell_type": "markdown",
      "source": [
        "#### Chart - 11"
      ],
      "metadata": {
        "id": "U2RJ9gkRphqQ"
      }
    },
    {
      "cell_type": "code",
      "source": [
        "# Chart - 11 visualization code\n",
        "#problem statement-11: Is there any corelation between all quantitative value in both datasets?\n",
        "\n",
        "# Heat Map for the merged data frame\n",
        "plt.figure(figsize = (8,6))\n",
        "sns.heatmap(merged_df.corr(), annot= True, cmap='Greens')\n",
        "plt.title(' Heatmap for merged Dataframe', size=20)"
      ],
      "metadata": {
        "id": "GM7a4YP4phqQ"
      },
      "execution_count": null,
      "outputs": []
    },
    {
      "cell_type": "markdown",
      "source": [
        "##### 1. Why did you pick the specific chart?"
      ],
      "metadata": {
        "id": "1M8mcRywphqQ"
      }
    },
    {
      "cell_type": "markdown",
      "source": [
        "Heatmap is a good choice for visualizing correlation between multiple variables as it provides a color-coded matrix representation of the correlation coefficients. In this case, we want to explore the correlation between all quantitative values in both datasets, which can be represented as a correlation matrix. Heatmap allows us to quickly identify the strength and direction of the correlation between different variables and also enables us to identify any potential multicollinearity issues between the variables."
      ],
      "metadata": {
        "id": "8agQvks0phqQ"
      }
    },
    {
      "cell_type": "markdown",
      "source": [
        "##### 2. What is/are the insight(s) found from the chart?"
      ],
      "metadata": {
        "id": "tgIPom80phqQ"
      }
    },
    {
      "cell_type": "markdown",
      "source": [
        "The insight gained from the heatmap is that there is a strong positive correlation between the number of installs and the sentiment polarity of the reviews. This means that apps with more installs generally have more positive reviews.\n",
        "\n",
        "Additionally, there is a weak positive correlation between the size of the app and the sentiment polarity of the reviews. This means that larger apps tend to have slightly more positive reviews.\n",
        "\n",
        "There is also a very weak negative correlation between the price of the app and the sentiment polarity of the reviews, indicating that higher-priced apps may have slightly less positive reviews.\n",
        "\n",
        "\n",
        "\n",
        "\n",
        "\n",
        "\n",
        "\n"
      ],
      "metadata": {
        "id": "Qp13pnNzphqQ"
      }
    },
    {
      "cell_type": "markdown",
      "source": [
        "##### 3. Will the gained insights help creating a positive business impact? \n",
        "Are there any insights that lead to negative growth? Justify with specific reason."
      ],
      "metadata": {
        "id": "JMzcOPDDphqR"
      }
    },
    {
      "cell_type": "markdown",
      "source": [
        "we can see that there is a strong positive correlation between the number of installs and the rating of the app. This suggests that apps with higher ratings tend to be downloaded more frequently, which can have a positive impact on the app's revenue.\n",
        "\n",
        "Additionally, we can see that there is a moderate positive correlation between the number of installs and the size of the app. This suggests that users are more likely to download apps that are larger in size, which can be useful information for app developers.\n",
        "\n",
        "However, we can also see that there is a weak negative correlation between the number of installs and the price of the app. This suggests that users are less likely to download apps that are more expensive, which can have a negative impact on the revenue of the app."
      ],
      "metadata": {
        "id": "R4Ka1PC2phqR"
      }
    },
    {
      "cell_type": "markdown",
      "source": [
        "## **5. Solution to Business Objective**"
      ],
      "metadata": {
        "id": "JcMwzZxoAimU"
      }
    },
    {
      "cell_type": "markdown",
      "source": [
        "#### What do you suggest the client to achieve Business Objective ? \n"
      ],
      "metadata": {
        "id": "8G2x9gOozGDZ"
      }
    },
    {
      "cell_type": "markdown",
      "source": [
        "Here are some general recommendations-\n",
        "\n",
        "1.Increase user engagement\n",
        "\n",
        "2.Improve app quality\n",
        "\n",
        "3.Increase app visibility and downloads\n",
        "\n",
        "4.Optimize app pricing\n",
        "\n",
        "5.Improve User Sentiments"
      ],
      "metadata": {
        "id": "pASKb0qOza21"
      }
    },
    {
      "cell_type": "markdown",
      "source": [
        "# **Conclusion**"
      ],
      "metadata": {
        "id": "gCX9965dhzqZ"
      }
    },
    {
      "cell_type": "markdown",
      "source": [
        "Our main objective here was to handle all the missing value and duplicates , providing app developers and stakeholders a insight to make their application according to marketing strategies follow according to analysis. Some points as we already discussed that what we have found regarding this dataset so for more generalised things that a company could focus are give here as-\n",
        "\n",
        "Overall rating distribution: The analysis can provide information on the overall distribution of ratings for the apps in the Play Store. This can help understand the popularity of different rating levels, and also identify the areas where the app developers can improve to attract more users.\n",
        "\n",
        "Ratings by category: The analysis can also provide insights on the ratings distribution by category, such as entertainment, productivity, education, etc. This can help identify the categories that are most popular among users, and also understand the expectations of users from apps in different categories.\n",
        "\n",
        "Reviews sentiment analysis: The analysis can also involve sentiment analysis of the app reviews, which can help understand the sentiment of users towards different apps. This can be useful in identifying the areas where the app developers need to improve, as well as understanding the strengths of popular apps.\n",
        "\n",
        "App size and ratings correlation: Another possible insight is to identify if there is any correlation between app size and ratings. This can help understand if users prefer smaller apps, and whether developers should focus on optimizing the app size to improve ratings.\n",
        "\n"
      ],
      "metadata": {
        "id": "Fjb1IsQkh3yE"
      }
    },
    {
      "cell_type": "markdown",
      "source": [
        "### ***Hurrah! You have successfully completed your EDA Capstone Project !!!***"
      ],
      "metadata": {
        "id": "gIfDvo9L0UH2"
      }
    }
  ]
}